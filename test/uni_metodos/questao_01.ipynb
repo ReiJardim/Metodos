{
 "cells": [
  {
   "cell_type": "code",
   "execution_count": 1,
   "metadata": {},
   "outputs": [],
   "source": [
    "import math"
   ]
  },
  {
   "cell_type": "code",
   "execution_count": 2,
   "metadata": {},
   "outputs": [],
   "source": [
    "\n",
    "def func_f(x_val):\n",
    "    return x_val * math.exp(3 * x_val)"
   ]
  },
  {
   "cell_type": "code",
   "execution_count": 3,
   "metadata": {},
   "outputs": [],
   "source": [
    "\n",
    "# Valores da tabela para e^(3x)\n",
    "table_e_3x = {\n",
    "    0.0: 1.0,\n",
    "    0.1: 1.3499,\n",
    "    0.2: 1.8221,\n",
    "    0.3: 2.4596,\n",
    "    0.4: 3.3201,\n",
    "    0.5: 4.4817\n",
    "}"
   ]
  },
  {
   "cell_type": "code",
   "execution_count": 4,
   "metadata": {},
   "outputs": [
    {
     "name": "stdout",
     "output_type": "stream",
     "text": [
      "O valor calculado diretamente de f(0.25) é: 0.5292500\n"
     ]
    }
   ],
   "source": [
    "x_target_direct = 0.25\n",
    "f_025_calculated_direct = func_f(x_target_direct)\n",
    "\n",
    "print(\n",
    "    f\"O valor calculado diretamente de f({x_target_direct}) é: {f_025_calculated_direct:.7f}\")\n"
   ]
  },
  {
   "cell_type": "code",
   "execution_count": 5,
   "metadata": {},
   "outputs": [],
   "source": [
    "x_coords_interp = [0.2, 0.3, 0.4]"
   ]
  },
  {
   "cell_type": "code",
   "execution_count": 6,
   "metadata": {},
   "outputs": [
    {
     "name": "stdout",
     "output_type": "stream",
     "text": [
      "Pontos (x_i, f(x_i)) usados para a interpolação de Lagrange:\n",
      "  f(0.2) = 0.2 * 1.8221 = 0.36442\n",
      "  f(0.3) = 0.3 * 2.4596 = 0.73788\n",
      "  f(0.4) = 0.4 * 3.3201 = 1.32804\n"
     ]
    }
   ],
   "source": [
    "\n",
    "# Verificar se os pontos escolhidos estão na tabela de e^(3x)\n",
    "if not all(x_val in table_e_3x for x_val in x_coords_interp):\n",
    "    print(\n",
    "        f\"Erro: Um ou mais dos x_coords_interp ({x_coords_interp}) não estão na tabela e^(3x) fornecida.\")\n",
    "    y_coords_interp = None  # Indica que não podemos prosseguir\n",
    "else:\n",
    "    # Calcular os valores de y = f(x) = x * e^(3x) para os pontos de interpolação,\n",
    "    # usando os valores de e^(3x) da tabela.\n",
    "    y_coords_interp = []\n",
    "    print(\"Pontos (x_i, f(x_i)) usados para a interpolação de Lagrange:\")\n",
    "    for x_val in x_coords_interp:\n",
    "        # f(x_val) = x_val * (valor de e^(3*x_val) da tabela)\n",
    "        f_xi = x_val * table_e_3x[x_val]\n",
    "        y_coords_interp.append(f_xi)\n",
    "        print(f\"  f({x_val}) = {x_val} * {table_e_3x[x_val]} = {f_xi:.5f}\")\n"
   ]
  },
  {
   "cell_type": "code",
   "execution_count": 7,
   "metadata": {},
   "outputs": [],
   "source": [
    "\n",
    "def lagrange_p2(x_to_interpolate, x_known_points, y_known_points):\n",
    "    \"\"\"\n",
    "    Calcula a interpolação de Lagrange de 2º grau.\n",
    "    x_to_interpolate: O ponto x onde a interpolação é desejada.\n",
    "    x_known_points: Uma lista ou tupla com os 3 valores conhecidos de x (x0, x1, x2).\n",
    "    y_known_points: Uma lista ou tupla com os 3 valores conhecidos de y (y0, y1, y2).\n",
    "    Retorna o valor interpolado P₂(x_to_interpolate).\n",
    "    \"\"\"\n",
    "    if len(x_known_points) != 3 or len(y_known_points) != 3:\n",
    "        raise ValueError(\n",
    "            \"Para interpolação de Lagrange de 2º grau, são necessários exatamente 3 pontos (x, y).\")\n",
    "\n",
    "    x0, x1, x2 = x_known_points[0], x_known_points[1], x_known_points[2]\n",
    "    y0, y1, y2 = y_known_points[0], y_known_points[1], y_known_points[2]\n",
    "\n",
    "    # Calculando os termos de Lagrange L0(x), L1(x), L2(x)\n",
    "    l0_x = ((x_to_interpolate - x1) * (x_to_interpolate - x2)) / \\\n",
    "        ((x0 - x1) * (x0 - x2))\n",
    "    l1_x = ((x_to_interpolate - x0) * (x_to_interpolate - x2)) / \\\n",
    "        ((x1 - x0) * (x1 - x2))\n",
    "    l2_x = ((x_to_interpolate - x0) * (x_to_interpolate - x1)) / \\\n",
    "        ((x2 - x0) * (x2 - x1))\n",
    "\n",
    "    # Calculando o valor interpolado P₂(x)\n",
    "    p2_x_interpolated = y0 * l0_x + y1 * l1_x + y2 * l2_x\n",
    "    return p2_x_interpolated\n"
   ]
  },
  {
   "cell_type": "code",
   "execution_count": 8,
   "metadata": {},
   "outputs": [
    {
     "name": "stdout",
     "output_type": "stream",
     "text": [
      "Os pontos x usados para interpolação foram: [0.2, 0.3, 0.4]\n",
      "Os pontos f(x) correspondentes (calculados com e^(3x) da tabela) foram: [0.36442, 0.73788, 1.32804]\n",
      "O valor interpolado P₂(0.25) é: 0.5240625\n"
     ]
    }
   ],
   "source": [
    "x_interpolate_at = 0.25\n",
    "p2_025_interpolated_value = None  # Inicializar\n",
    "\n",
    "if y_coords_interp is not None:  # Verifica se y_coords_interp foi definido corretamente\n",
    "    p2_025_interpolated_value = lagrange_p2(\n",
    "        x_interpolate_at, x_coords_interp, y_coords_interp)\n",
    "    print(f\"Os pontos x usados para interpolação foram: {x_coords_interp}\")\n",
    "    print(\n",
    "        f\"Os pontos f(x) correspondentes (calculados com e^(3x) da tabela) foram: [{', '.join(f'{val:.5f}' for val in y_coords_interp)}]\")\n",
    "    print(\n",
    "        f\"O valor interpolado P₂({x_interpolate_at}) é: {p2_025_interpolated_value:.7f}\")\n",
    "else:\n",
    "    print(\"Não foi possível calcular P₂(0.25) pois os pontos de interpolação (y_coords_interp) não foram definidos corretamente.\")\n",
    "\n"
   ]
  },
  {
   "cell_type": "code",
   "execution_count": 9,
   "metadata": {},
   "outputs": [
    {
     "name": "stdout",
     "output_type": "stream",
     "text": [
      "Entrega:\n",
      "i) f(0.25): 0.5292500\n",
      "ii) P₂(0.25): 0.5240625\n",
      "----------------------------------------\n",
      "Nota: A escolha dos 3 pontos para a interpolação de Lagrange (P₂) foi baseada na\n",
      "suposição de que os 'valores sinalizados de negrito' seriam os mais próximos de 0.25,\n",
      "resultando na escolha de x = [0.2, 0.3, 0.4].\n",
      "Se a identificação dos valores em negrito for diferente, a lista 'x_coords_interp'\n",
      "na célula correspondente do notebook deve ser atualizada.\n"
     ]
    }
   ],
   "source": [
    "print(\"Entrega:\")\n",
    "# Usando 7 casas decimais para consistência\n",
    "print(f\"i) f(0.25): {f_025_calculated_direct:.7f}\")\n",
    "\n",
    "if p2_025_interpolated_value is not None:\n",
    "    # Usando 7 casas decimais\n",
    "    print(f\"ii) P₂(0.25): {p2_025_interpolated_value:.7f}\")\n",
    "else:\n",
    "    print(f\"ii) P₂(0.25): (Cálculo não pôde ser concluído devido a erro na seleção de pontos)\")\n",
    "\n",
    "print(\"-\" * 40)\n",
    "print(\"Nota: A escolha dos 3 pontos para a interpolação de Lagrange (P₂) foi baseada na\")\n",
    "print(\"suposição de que os 'valores sinalizados de negrito' seriam os mais próximos de 0.25,\")\n",
    "print(\n",
    "    f\"resultando na escolha de x = {x_coords_interp if 'x_coords_interp' in locals() else '[NÃO DEFINIDO]'}.\")\n",
    "print(\"Se a identificação dos valores em negrito for diferente, a lista 'x_coords_interp'\")\n",
    "print(\"na célula correspondente do notebook deve ser atualizada.\")\n"
   ]
  }
 ],
 "metadata": {
  "language_info": {
   "name": "python"
  }
 },
 "nbformat": 4,
 "nbformat_minor": 2
}
