{
 "cells": [
  {
   "cell_type": "code",
   "execution_count": 4,
   "metadata": {},
   "outputs": [],
   "source": [
    "import math\n",
    "import numpy as np\n",
    "import pandas as pd  # Para exibir a tabela de diferenças divididas\n"
   ]
  },
  {
   "cell_type": "code",
   "execution_count": 5,
   "metadata": {},
   "outputs": [],
   "source": [
    "x_points = np.array([0.0, 0.1, 0.2, 0.3, 0.4])\n",
    "y_points = np.array([0.00000, 0.09983, 0.19867, 0.29552, 0.38941])"
   ]
  },
  {
   "cell_type": "code",
   "execution_count": 6,
   "metadata": {},
   "outputs": [],
   "source": [
    "\n",
    "# Número de pontos\n",
    "n_total_points = len(x_points)\n"
   ]
  },
  {
   "cell_type": "code",
   "execution_count": 7,
   "metadata": {},
   "outputs": [
    {
     "name": "stdout",
     "output_type": "stream",
     "text": [
      "Tabela de Diferenças Divididas (iii):\n",
      "   i x_i  f(x_i)     f[]     f[,]    f[,,]  f[,,,]\n",
      "0  0 0.0 0.00000 0.99830 -0.04950 -0.16667 0.01250\n",
      "1  1 0.1 0.09983 0.98840 -0.09950 -0.16167     NaN\n",
      "2  2 0.2 0.19867 0.96850 -0.14800      NaN     NaN\n",
      "3  3 0.3 0.29552 0.93890      NaN      NaN     NaN\n",
      "4  4 0.4 0.38941     NaN      NaN      NaN     NaN\n"
     ]
    }
   ],
   "source": [
    "# Inicializar a matriz de diferenças divididas\n",
    "# A primeira coluna (índice 0) são os y_points (f(x_i))\n",
    "divided_diff_table = np.zeros((n_total_points, n_total_points))\n",
    "divided_diff_table[:, 0] = y_points\n",
    "\n",
    "# Calcular as diferenças divididas\n",
    "for j in range(1, n_total_points):  # Coluna da tabela de diferenças (ordem da diferença)\n",
    "    for i in range(n_total_points - j):  # Linha da tabela de diferenças\n",
    "        divided_diff_table[i, j] = \\\n",
    "            (divided_diff_table[i+1, j-1] - divided_diff_table[i, j-1]) / \\\n",
    "            (x_points[i+j] - x_points[i])\n",
    "\n",
    "# Preparar a tabela para exibição conforme o formato da questão\n",
    "# Colunas: i, x_i, f(x_i), f[], f[,], f[,,], f[,,,]\n",
    "# Os valores nas colunas de diferença são populados de cima para baixo.\n",
    "# f[] (Ordem 1): divided_diff_table[i, 1] para i de 0 a n-2\n",
    "# f[,] (Ordem 2): divided_diff_table[i, 2] para i de 0 a n-3\n",
    "# ...\n",
    "\n",
    "df_display = pd.DataFrame({\n",
    "    'i': range(n_total_points),\n",
    "    'x_i': x_points,\n",
    "    'f(x_i)': y_points\n",
    "})\n",
    "\n",
    "# Adicionando colunas de diferenças divididas ao DataFrame para exibição\n",
    "# As colunas da questão f[], f[,], etc. são as divided_diff_table[0:, 1], divided_diff_table[0:, 2] etc.\n",
    "# mas precisamos alinhar corretamente (mostrar NaN onde não aplicável)\n",
    "col_labels = ['f[]', 'f[,]', 'f[,,]', 'f[,,,]']\n",
    "for order in range(1, n_total_points):  # Ordem da diferença (1 a 4)\n",
    "    col_name = col_labels[order-1]\n",
    "    # Criar uma série com NaNs e preencher os valores calculados\n",
    "    diff_values = [np.nan] * n_total_points\n",
    "    for i in range(n_total_points - order):\n",
    "        diff_values[i] = divided_diff_table[i, order]\n",
    "    df_display[col_name] = diff_values\n",
    "\n",
    "\n",
    "print(\"Tabela de Diferenças Divididas (iii):\")\n",
    "print(df_display.to_string(formatters={\n",
    "    'x_i': '{:.1f}'.format,\n",
    "    'f(x_i)': '{:.5f}'.format,\n",
    "    'f[]': lambda x: f'{x:.5f}' if not pd.isna(x) else '',\n",
    "    'f[,]': lambda x: f'{x:.5f}' if not pd.isna(x) else '',\n",
    "    'f[,,]': lambda x: f'{x:.5f}' if not pd.isna(x) else '',\n",
    "    'f[,,,]': lambda x: f'{x:.5f}' if not pd.isna(x) else ''\n",
    "}))\n",
    "\n",
    "# Os coeficientes do polinômio de Newton P_n(x) são a primeira linha da tabela de diferenças divididas:\n",
    "# f[x_0], f[x_0,x_1], f[x_0,x_1,x_2], ...\n",
    "# Estes são divided_diff_table[0,0], divided_diff_table[0,1], divided_diff_table[0,2], ...\n",
    "newton_coeffs_all = divided_diff_table[0, :]\n"
   ]
  },
  {
   "cell_type": "code",
   "execution_count": 8,
   "metadata": {},
   "outputs": [],
   "source": [
    "def newton_polynomial(x_val, x_data, coeffs, order):\n",
    "    \"\"\"\n",
    "    Calcula o valor do polinômio interpolador de Newton.\n",
    "    x_val: O ponto onde o polinômio é avaliado.\n",
    "    x_data: Array dos valores de x_i usados para construir o polinômio.\n",
    "    coeffs: Array dos coeficientes de Newton (f[x_0], f[x_0,x_1], ...).\n",
    "    order: A ordem do polinômio (n). O número de coeficientes será order+1.\n",
    "    \"\"\"\n",
    "    result = coeffs[0]\n",
    "    term = 1.0\n",
    "    for i in range(1, order + 1):  # order+1 termos no total\n",
    "        term *= (x_val - x_data[i-1])\n",
    "        result += coeffs[i] * term\n",
    "    return result\n"
   ]
  },
  {
   "cell_type": "code",
   "execution_count": 9,
   "metadata": {},
   "outputs": [
    {
     "name": "stdout",
     "output_type": "stream",
     "text": [
      "Polinômio de 4ª ordem P₄(0.0625) = 0.06245509796142577\n"
     ]
    }
   ],
   "source": [
    "x_eval_a = 0.0625\n",
    "order_a = 4  # Quarta ordem\n",
    "\n",
    "# Os x_points para P4 são todos os x_points\n",
    "# Os coeficientes para P4 são os 5 primeiros da diagonal da tabela (newton_coeffs_all[0] a newton_coeffs_all[4])\n",
    "p4_00625 = newton_polynomial(x_eval_a, x_points, newton_coeffs_all, order_a)\n",
    "\n",
    "print(f\"Polinômio de 4ª ordem P₄({x_eval_a}) = {p4_00625}\")"
   ]
  },
  {
   "cell_type": "code",
   "execution_count": 10,
   "metadata": {},
   "outputs": [
    {
     "name": "stdout",
     "output_type": "stream",
     "text": [
      "i) Valor encontrado para sin(0.0625) (P₄(0.0625)) com 4 casas decimais: 0.0625\n",
      "Valor real de sin(0.0625): 0.0624593\n"
     ]
    }
   ],
   "source": [
    "p4_00625_rounded = round(p4_00625, 4)\n",
    "print(\n",
    "    f\"i) Valor encontrado para sin(0.0625) (P₄(0.0625)) com 4 casas decimais: {p4_00625_rounded}\")\n",
    "\n",
    "# Comparação com o valor real de sin(0.0625)\n",
    "sin_00625_actual = math.sin(x_eval_a)\n",
    "print(f\"Valor real de sin({x_eval_a}): {sin_00625_actual:.7f}\")"
   ]
  },
  {
   "cell_type": "code",
   "execution_count": 11,
   "metadata": {},
   "outputs": [],
   "source": [
    "x_eval_b = 0.25\n",
    "order_b = 2  # Quadrática (2ª ordem)\n",
    "\n",
    "# Pontos para P2: x_1=0.1, x_2=0.2, x_3=0.3\n",
    "# Correspondem aos índices 1, 2, 3 na lista x_points\n",
    "x_points_b = x_points[1:4]  # x_points_b será [0.1, 0.2, 0.3]\n",
    "\n",
    "# Coeficientes para P2 usando os pontos x_points_b:\n",
    "# f[x_1] = y_points[1]\n",
    "# f[x_1, x_2] = divided_diff_table[1,1] (segundo elemento da 2ª coluna de DD)\n",
    "# f[x_1, x_2, x_3] = divided_diff_table[1,2] (segundo elemento da 3ª coluna de DD)\n",
    "coeffs_b = [\n",
    "    divided_diff_table[1, 0],  # y_points[1] ou f[x_1]\n",
    "    divided_diff_table[1, 1],  # f[x_1, x_2]\n",
    "    divided_diff_table[1, 2]  # f[x_1, x_2, x_3]\n",
    "]"
   ]
  },
  {
   "cell_type": "code",
   "execution_count": 12,
   "metadata": {},
   "outputs": [
    {
     "name": "stdout",
     "output_type": "stream",
     "text": [
      "Pontos x para P₂: [0.1 0.2 0.3]\n",
      "Coeficientes de Newton para P₂: [np.float64(0.09983), np.float64(0.9884000000000001), np.float64(-0.0994999999999996)]\n",
      "\n",
      "Polinômio de 2ª ordem P₂(0.25) = 0.24734375\n"
     ]
    }
   ],
   "source": [
    "\n",
    "print(f\"Pontos x para P₂: {x_points_b}\")\n",
    "print(f\"Coeficientes de Newton para P₂: {coeffs_b}\")\n",
    "\n",
    "p2_025 = newton_polynomial(x_eval_b, x_points_b, coeffs_b, order_b)\n",
    "\n",
    "print(f\"\\nPolinômio de 2ª ordem P₂({x_eval_b}) = {p2_025}\")\n",
    "\n"
   ]
  },
  {
   "cell_type": "code",
   "execution_count": 13,
   "metadata": {},
   "outputs": [
    {
     "name": "stdout",
     "output_type": "stream",
     "text": [
      "ii) Valor encontrado para sin(0.25) (P₂(0.25)) com 4 casas decimais: 0.2473\n",
      "Valor real de sin(0.25): 0.2474040\n"
     ]
    }
   ],
   "source": [
    "p2_025_rounded = round(p2_025, 4)\n",
    "print(\n",
    "    f\"ii) Valor encontrado para sin(0.25) (P₂({x_eval_b})) com 4 casas decimais: {p2_025_rounded}\")\n",
    "\n",
    "# Comparação com o valor real de sin(0.25)\n",
    "sin_025_actual = math.sin(x_eval_b)\n",
    "print(f\"Valor real de sin({x_eval_b}): {sin_025_actual:.7f}\")"
   ]
  },
  {
   "cell_type": "code",
   "execution_count": 14,
   "metadata": {},
   "outputs": [
    {
     "name": "stdout",
     "output_type": "stream",
     "text": [
      "Termo do produto (x-x'_0)(x-x'_1)(x-x'_2) = -0.0003749999999999998\n",
      "Valor de cos(0.1) ≈ 0.9950042\n",
      "Valor de M_3 = max|f'''(ξ)| (com 5 casas decimais) = 0.995\n",
      "\n",
      "Delimitação do erro para P₂(0.25): |E₂(0.25)| ≤ 6.2187500e-05\n",
      "Erro real |sin(0.25) - P₂(0.25)| = 6.0209255e-05\n",
      "O erro real é menor ou igual à delimitação calculada.\n"
     ]
    }
   ],
   "source": [
    "x_eval_b = 0.25  # ponto de avaliação\n",
    "# x_points_b foram [0.1, 0.2, 0.3]\n",
    "product_term_error = (x_eval_b - x_points_b[0]) * \\\n",
    "                     (x_eval_b - x_points_b[1]) * \\\n",
    "                     (x_eval_b - x_points_b[2])\n",
    "\n",
    "print(f\"Termo do produto (x-x'_0)(x-x'_1)(x-x'_2) = {product_term_error}\")\n",
    "\n",
    "# Máximo da terceira derivada\n",
    "# f'''(xi) = -cos(xi). Queremos max |-cos(xi)| em [0.1, 0.3]\n",
    "# max |-cos(xi)| = cos(0.1)\n",
    "max_f_triple_prime_abs = math.cos(0.1)  # Valor exato\n",
    "# Com 5 casas decimais, conforme solicitado\n",
    "max_f_triple_prime_abs_approx = 0.99500\n",
    "\n",
    "print(f\"Valor de cos(0.1) ≈ {max_f_triple_prime_abs:.7f}\")\n",
    "print(\n",
    "    f\"Valor de M_3 = max|f'''(ξ)| (com 5 casas decimais) = {max_f_triple_prime_abs_approx}\")\n",
    "\n",
    "# Fatorial de (n+1) = 3!\n",
    "n_plus_1_factorial = math.factorial(2 + 1)  # 3! = 6\n",
    "\n",
    "# Delimitação do erro\n",
    "error_bound_b = (max_f_triple_prime_abs_approx /\n",
    "                 n_plus_1_factorial) * abs(product_term_error)\n",
    "\n",
    "print(\n",
    "    f\"\\nDelimitação do erro para P₂({x_eval_b}): |E₂({x_eval_b})| ≤ {error_bound_b:.7e}\")\n",
    "\n",
    "# Erro real para P₂(0.25)\n",
    "actual_error_b = abs(sin_025_actual - p2_025)\n",
    "print(f\"Erro real |sin(0.25) - P₂(0.25)| = {actual_error_b:.7e}\")\n",
    "if actual_error_b <= error_bound_b:\n",
    "    print(\"O erro real é menor ou igual à delimitação calculada.\")\n",
    "else:\n",
    "    print(\"Atenção: O erro real é MAIOR que a delimitação calculada (verificar cálculos ou aproximações).\")\n",
    "\n"
   ]
  },
  {
   "cell_type": "code",
   "execution_count": null,
   "metadata": {},
   "outputs": [],
   "source": []
  },
  {
   "cell_type": "code",
   "execution_count": 15,
   "metadata": {},
   "outputs": [
    {
     "name": "stdout",
     "output_type": "stream",
     "text": [
      "Anotações Importantes - Respostas:\n",
      "i) Escreva aqui o valor encontrado com precisão de 4 casas de sen (0.0625): 0.0625\n",
      "ii) Escreva aqui o valor encontrado com precisão de 4 casas de sen (0.25): 0.2473\n",
      "iii) A tabela de diferenças divididas foi exibida na seção correspondente.\n",
      "v) Delimite o erro de interpolação do item (b): |E₂(0.25)| ≤ 6.219e-05 (usando M₃ ≈ 0.995)\n"
     ]
    }
   ],
   "source": [
    "print(\"Anotações Importantes - Respostas:\")\n",
    "print(\n",
    "    f\"i) Escreva aqui o valor encontrado com precisão de 4 casas de sen (0.0625): {p4_00625_rounded}\")\n",
    "print(\n",
    "    f\"ii) Escreva aqui o valor encontrado com precisão de 4 casas de sen (0.25): {p2_025_rounded}\")\n",
    "print(f\"iii) A tabela de diferenças divididas foi exibida na seção correspondente.\")\n",
    "print(\n",
    "    f\"v) Delimite o erro de interpolação do item (b): |E₂(0.25)| ≤ {error_bound_b:.3e} (usando M₃ ≈ {max_f_triple_prime_abs_approx})\")\n"
   ]
  }
 ],
 "metadata": {
  "language_info": {
   "name": "python"
  }
 },
 "nbformat": 4,
 "nbformat_minor": 2
}
