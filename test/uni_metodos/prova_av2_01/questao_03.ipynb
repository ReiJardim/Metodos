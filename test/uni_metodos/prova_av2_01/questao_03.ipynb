{
 "cells": [
  {
   "cell_type": "code",
   "execution_count": 4,
   "metadata": {},
   "outputs": [],
   "source": [
    "import math\n",
    "import numpy as np\n",
    "import pandas as pd  # Para exibir a tabela de diferenças divididas\n"
   ]
  },
  {
   "cell_type": "code",
   "execution_count": 5,
   "metadata": {},
   "outputs": [],
   "source": [
    "x_points = np.array([0.0, 0.1, 0.2, 0.3, 0.4])\n",
    "y_points = np.array([0.00000, 0.09983, 0.19867, 0.29552, 0.38941])"
   ]
  },
  {
   "cell_type": "code",
   "execution_count": 6,
   "metadata": {},
   "outputs": [],
   "source": [
    "\n",
    "# Número de pontos\n",
    "n_total_points = len(x_points)\n"
   ]
  },
  {
   "cell_type": "code",
   "execution_count": 7,
   "metadata": {},
   "outputs": [
    {
     "name": "stdout",
     "output_type": "stream",
     "text": [
      "Tabela de Diferenças Divididas (iii):\n",
      "   i x_i  f(x_i)     f[]     f[,]    f[,,]  f[,,,]\n",
      "0  0 0.0 0.00000 0.99830 -0.04950 -0.16667 0.01250\n",
      "1  1 0.1 0.09983 0.98840 -0.09950 -0.16167     NaN\n",
      "2  2 0.2 0.19867 0.96850 -0.14800      NaN     NaN\n",
      "3  3 0.3 0.29552 0.93890      NaN      NaN     NaN\n",
      "4  4 0.4 0.38941     NaN      NaN      NaN     NaN\n"
     ]
    }
   ],
   "source": [
    "# Inicializar a matriz de diferenças divididas\n",
    "# A primeira coluna (índice 0) são os y_points (f(x_i))\n",
    "divided_diff_table = np.zeros((n_total_points, n_total_points))\n",
    "divided_diff_table[:, 0] = y_points\n",
    "\n",
    "# Calcular as diferenças divididas\n",
    "for j in range(1, n_total_points):  # Coluna da tabela de diferenças (ordem da diferença)\n",
    "    for i in range(n_total_points - j):  # Linha da tabela de diferenças\n",
    "        divided_diff_table[i, j] = \\\n",
    "            (divided_diff_table[i+1, j-1] - divided_diff_table[i, j-1]) / \\\n",
    "            (x_points[i+j] - x_points[i])\n",
    "\n",
    "# Preparar a tabela para exibição conforme o formato da questão\n",
    "# Colunas: i, x_i, f(x_i), f[], f[,], f[,,], f[,,,]\n",
    "# Os valores nas colunas de diferença são populados de cima para baixo.\n",
    "# f[] (Ordem 1): divided_diff_table[i, 1] para i de 0 a n-2\n",
    "# f[,] (Ordem 2): divided_diff_table[i, 2] para i de 0 a n-3\n",
    "# ...\n",
    "\n",
    "df_display = pd.DataFrame({\n",
    "    'i': range(n_total_points),\n",
    "    'x_i': x_points,\n",
    "    'f(x_i)': y_points\n",
    "})\n",
    "\n",
    "# Adicionando colunas de diferenças divididas ao DataFrame para exibição\n",
    "# As colunas da questão f[], f[,], etc. são as divided_diff_table[0:, 1], divided_diff_table[0:, 2] etc.\n",
    "# mas precisamos alinhar corretamente (mostrar NaN onde não aplicável)\n",
    "col_labels = ['f[]', 'f[,]', 'f[,,]', 'f[,,,]']\n",
    "for order in range(1, n_total_points):  # Ordem da diferença (1 a 4)\n",
    "    col_name = col_labels[order-1]\n",
    "    # Criar uma série com NaNs e preencher os valores calculados\n",
    "    diff_values = [np.nan] * n_total_points\n",
    "    for i in range(n_total_points - order):\n",
    "        diff_values[i] = divided_diff_table[i, order]\n",
    "    df_display[col_name] = diff_values\n",
    "\n",
    "\n",
    "print(\"Tabela de Diferenças Divididas (iii):\")\n",
    "print(df_display.to_string(formatters={\n",
    "    'x_i': '{:.1f}'.format,\n",
    "    'f(x_i)': '{:.5f}'.format,\n",
    "    'f[]': lambda x: f'{x:.5f}' if not pd.isna(x) else '',\n",
    "    'f[,]': lambda x: f'{x:.5f}' if not pd.isna(x) else '',\n",
    "    'f[,,]': lambda x: f'{x:.5f}' if not pd.isna(x) else '',\n",
    "    'f[,,,]': lambda x: f'{x:.5f}' if not pd.isna(x) else ''\n",
    "}))\n",
    "\n",
    "# Os coeficientes do polinômio de Newton P_n(x) são a primeira linha da tabela de diferenças divididas:\n",
    "# f[x_0], f[x_0,x_1], f[x_0,x_1,x_2], ...\n",
    "# Estes são divided_diff_table[0,0], divided_diff_table[0,1], divided_diff_table[0,2], ...\n",
    "newton_coeffs_all = divided_diff_table[0, :]\n"
   ]
  }
 ],
 "metadata": {
  "language_info": {
   "name": "python"
  }
 },
 "nbformat": 4,
 "nbformat_minor": 2
}
