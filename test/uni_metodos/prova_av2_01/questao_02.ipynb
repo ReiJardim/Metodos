{
 "cells": [
  {
   "cell_type": "code",
   "execution_count": 3,
   "metadata": {},
   "outputs": [],
   "source": [
    "import math\n",
    "import sympy"
   ]
  },
  {
   "cell_type": "code",
   "execution_count": 4,
   "metadata": {},
   "outputs": [],
   "source": [
    "# Configurações do Sympy para melhor visualização\n",
    "sympy.init_printing(use_latex='mathjax')"
   ]
  },
  {
   "cell_type": "code",
   "execution_count": 5,
   "metadata": {},
   "outputs": [],
   "source": [
    "# Definindo a variável simbólica e a função f(x) com sympy\n",
    "x_sym = sympy.Symbol('x')\n",
    "f_sym = x_sym * sympy.exp(3*x_sym)"
   ]
  },
  {
   "cell_type": "code",
   "execution_count": 6,
   "metadata": {},
   "outputs": [],
   "source": [
    "\n",
    "# Pontos de interpolação e ponto de avaliação\n",
    "x_eval = 0.25\n",
    "x_nodes = [0.2, 0.3, 0.4]  # x0, x1, x2\n",
    "\n",
    "# Ordem do polinômio n\n",
    "n_order = 2"
   ]
  },
  {
   "cell_type": "code",
   "execution_count": 7,
   "metadata": {},
   "outputs": [],
   "source": [
    "# Calculando as derivadas simbolicamente\n",
    "f_prime_sym = sympy.diff(f_sym, x_sym)\n",
    "f_double_prime_sym = sympy.diff(f_prime_sym, x_sym)\n",
    "f_triple_prime_sym = sympy.diff(f_double_prime_sym, x_sym)\n",
    "\n",
    "# Simplificando as expressões das derivadas\n",
    "f_prime_simplified = sympy.simplify(f_prime_sym)\n",
    "f_double_prime_simplified = sympy.simplify(f_double_prime_sym)\n",
    "f_triple_prime_simplified = sympy.simplify(f_triple_prime_sym)"
   ]
  },
  {
   "cell_type": "code",
   "execution_count": 8,
   "metadata": {},
   "outputs": [
    {
     "name": "stdout",
     "output_type": "stream",
     "text": [
      "f(x):\n"
     ]
    },
    {
     "data": {
      "text/latex": [
       "$\\displaystyle x e^{3 x}$"
      ],
      "text/plain": [
       "   3⋅x\n",
       "x⋅ℯ   "
      ]
     },
     "metadata": {},
     "output_type": "display_data"
    },
    {
     "name": "stdout",
     "output_type": "stream",
     "text": [
      "f'(x):\n"
     ]
    },
    {
     "data": {
      "text/latex": [
       "$\\displaystyle \\left(3 x + 1\\right) e^{3 x}$"
      ],
      "text/plain": [
       "           3⋅x\n",
       "(3⋅x + 1)⋅ℯ   "
      ]
     },
     "metadata": {},
     "output_type": "display_data"
    },
    {
     "name": "stdout",
     "output_type": "stream",
     "text": [
      "f''(x):\n"
     ]
    },
    {
     "data": {
      "text/latex": [
       "$\\displaystyle \\left(9 x + 6\\right) e^{3 x}$"
      ],
      "text/plain": [
       "           3⋅x\n",
       "(9⋅x + 6)⋅ℯ   "
      ]
     },
     "metadata": {},
     "output_type": "display_data"
    },
    {
     "name": "stdout",
     "output_type": "stream",
     "text": [
      "f'''(x) (que é f^(n+1)(x) para n=2):\n"
     ]
    },
    {
     "data": {
      "text/latex": [
       "$\\displaystyle 27 \\left(x + 1\\right) e^{3 x}$"
      ],
      "text/plain": [
       "            3⋅x\n",
       "27⋅(x + 1)⋅ℯ   "
      ]
     },
     "metadata": {},
     "output_type": "display_data"
    }
   ],
   "source": [
    "print(\"f(x):\")\n",
    "display(f_sym)\n",
    "print(\"f'(x):\")\n",
    "display(f_prime_simplified)\n",
    "print(\"f''(x):\")\n",
    "display(f_double_prime_simplified)\n",
    "print(\"f'''(x) (que é f^(n+1)(x) para n=2):\")\n",
    "display(f_triple_prime_simplified)\n"
   ]
  },
  {
   "cell_type": "code",
   "execution_count": 9,
   "metadata": {},
   "outputs": [],
   "source": [
    "\n",
    "# Equação da derivada f'''(x) para a entrega\n",
    "equacao_derivada_f_n_plus_1 = f_triple_prime_simplified\n"
   ]
  },
  {
   "cell_type": "code",
   "execution_count": 10,
   "metadata": {},
   "outputs": [
    {
     "name": "stdout",
     "output_type": "stream",
     "text": [
      "f^(4)(x):\n"
     ]
    },
    {
     "data": {
      "text/latex": [
       "$\\displaystyle \\left(81 x + 108\\right) e^{3 x}$"
      ],
      "text/plain": [
       "              3⋅x\n",
       "(81⋅x + 108)⋅ℯ   "
      ]
     },
     "metadata": {},
     "output_type": "display_data"
    },
    {
     "name": "stdout",
     "output_type": "stream",
     "text": [
      "\n",
      "f^(4)(0.2) = 226.30715500850124\n",
      "f^(4)(0.4) = 466.1444159522114\n",
      "\n",
      "Máximo de |f'''(ξ)| no intervalo [0.2, 0.4] é M₃ = f'''(0.4) = 125.5004196794415\n"
     ]
    }
   ],
   "source": [
    "f_fourth_prime_sym = sympy.diff(f_triple_prime_sym, x_sym)\n",
    "f_fourth_prime_simplified = sympy.simplify(f_fourth_prime_sym)\n",
    "\n",
    "print(\"f^(4)(x):\")\n",
    "display(f_fourth_prime_simplified)\n",
    "\n",
    "# Converter f'''(x) e f^(4)(x) para funções numéricas para avaliação\n",
    "f_triple_prime_func = sympy.lambdify(x_sym, f_triple_prime_simplified, 'math')\n",
    "f_fourth_prime_func = sympy.lambdify(x_sym, f_fourth_prime_simplified, 'math')\n",
    "\n",
    "# Analisar o sinal de f^(4)(x) no intervalo [0.2, 0.4]\n",
    "# Se f^(4)(x) > 0, então f'''(x) é crescente.\n",
    "# Se f^(4)(x) < 0, então f'''(x) é decrescente.\n",
    "# Valores de f^(4)(x) nos extremos do intervalo:\n",
    "val_f4_at_02 = f_fourth_prime_func(0.2)\n",
    "val_f4_at_04 = f_fourth_prime_func(0.4)\n",
    "\n",
    "print(f\"\\nf^(4)(0.2) = {val_f4_at_02}\")\n",
    "print(f\"f^(4)(0.4) = {val_f4_at_04}\")\n",
    "\n",
    "# Como f^(4)(x) = 27e^(3x)(3x+4), e para x em [0.2, 0.4], e^(3x)>0 e (3x+4)>0,\n",
    "# então f^(4)(x) > 0 em todo o intervalo [0.2, 0.4].\n",
    "# Isso significa que f'''(x) é estritamente crescente em [0.2, 0.4].\n",
    "\n",
    "# Além disso, f'''(x) = 27(x+1)e^(3x) é positiva para x em [0.2, 0.4].\n",
    "# Portanto, o máximo de |f'''(x)| ocorre em x = 0.4.\n",
    "M_n_plus_1 = f_triple_prime_func(0.4)\n",
    "print(\n",
    "    f\"\\nMáximo de |f'''(ξ)| no intervalo [0.2, 0.4] é M₃ = f'''(0.4) = {M_n_plus_1}\")"
   ]
  },
  {
   "cell_type": "code",
   "execution_count": 11,
   "metadata": {},
   "outputs": [
    {
     "name": "stdout",
     "output_type": "stream",
     "text": [
      "Termo produtório Π(x-x_i) = 0.00037499999999999985\n",
      "(n+1)! = 3! = 6\n"
     ]
    }
   ],
   "source": [
    "# Termo produtório: (x-x0)(x-x1)(x-x2)\n",
    "term_prod = (x_eval - x_nodes[0]) * (x_eval -\n",
    "                                     x_nodes[1]) * (x_eval - x_nodes[2])\n",
    "print(f\"Termo produtório Π(x-x_i) = {term_prod}\")\n",
    "\n",
    "# Fatorial (n+1)! = 3!\n",
    "n_plus_1_factorial = math.factorial(n_order + 1)\n",
    "print(f\"(n+1)! = {n_order+1}! = {n_plus_1_factorial}\")"
   ]
  },
  {
   "cell_type": "code",
   "execution_count": 12,
   "metadata": {},
   "outputs": [
    {
     "name": "stdout",
     "output_type": "stream",
     "text": [
      "Limite superior para o erro |E₂(0.25)| ≤ 0.00784377622996509\n",
      "\n",
      "ERRO (0.25) com precisão de 4 casas decimais: 0.0078\n"
     ]
    }
   ],
   "source": [
    "erro_limite_superior = (M_n_plus_1 / n_plus_1_factorial) * abs(term_prod)\n",
    "print(f\"Limite superior para o erro |E₂({x_eval})| ≤ {erro_limite_superior}\")\n",
    "\n",
    "# Precisão de 4 casas decimais para o resultado final do erro\n",
    "erro_final_4_casas = round(erro_limite_superior, 4)  # Arredondamento padrão\n",
    "# Para garantir que seja um limite superior, podemos truncar para cima (ceil) na 4a casa,\n",
    "# mas a questão pede \"Precisão de 4 casas decimais\" que usualmente implica arredondamento.\n",
    "# Vamos usar o arredondamento padrão. Se for necessário garantir o limite superior estrito,\n",
    "# ajustaríamos para cima. Ex: 0.007843... arredonda para 0.0078.\n",
    "\n",
    "print(\n",
    "    f\"\\nERRO ({x_eval}) com precisão de 4 casas decimais: {erro_final_4_casas}\")"
   ]
  },
  {
   "cell_type": "code",
   "execution_count": 13,
   "metadata": {},
   "outputs": [
    {
     "name": "stdout",
     "output_type": "stream",
     "text": [
      "Entrega:\n",
      "Derivada f'''(x): 27(x + 1)exp(3x)     (Equação: 27(x+1)e^(3x))\n",
      "ERRO (0.25): 0.0078                     (Precisão de 4 casas decimais)\n"
     ]
    }
   ],
   "source": [
    "# Reformatando a equação da derivada para string\n",
    "str_equacao_derivada = str(equacao_derivada_f_n_plus_1).replace(\n",
    "    '**', '^').replace('*', '')\n",
    "\n",
    "print(\"Entrega:\")\n",
    "print(f\"Derivada f'''(x): {str_equacao_derivada}     (Equação: 27(x+1)e^(3x))\")\n",
    "print(f\"ERRO ({x_eval}): {erro_final_4_casas}                     (Precisão de 4 casas decimais)\")\n"
   ]
  }
 ],
 "metadata": {
  "language_info": {
   "name": "python"
  }
 },
 "nbformat": 4,
 "nbformat_minor": 2
}
