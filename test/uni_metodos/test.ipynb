{
 "cells": [
  {
   "cell_type": "markdown",
   "metadata": {},
   "source": [
    "$P(x) = -1.0000(x - 0.1065)/-0.7386(x - 1)/-1.6321 + -0.5000(x + 0.6321)/0.7386(x - 1)/-0.8935 + 0.0000(x + 0.6321)/1.6321(x - 0.1065)/0.8935$\n"
   ]
  }
 ],
 "metadata": {
  "language_info": {
   "name": "python"
  }
 },
 "nbformat": 4,
 "nbformat_minor": 2
}
