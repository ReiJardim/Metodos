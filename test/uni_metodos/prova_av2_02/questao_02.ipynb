{
 "cells": [
  {
   "cell_type": "code",
   "execution_count": 1,
   "metadata": {},
   "outputs": [
    {
     "name": "stdout",
     "output_type": "stream",
     "text": [
      "Determinação da curva y = a * e^(bx):\n",
      "  Coeficiente 'a': 383.6252\n",
      "  Coeficiente 'b': -1.2476\n",
      "  A equação da curva é aproximadamente: y = 383.6252 * e^(-1.2476x)\n",
      "--------------------------------------------------\n",
      "Estimativa da disponibilidade de água para o ano 2020 (onde x = 3):\n",
      "  y(3) = 9.0873 (em 1000 m³ por habitante)\n",
      "--------------------------------------------------\n",
      "Valor para preenchimento da resposta: 9.09\n"
     ]
    }
   ],
   "source": [
    "import numpy as np\n",
    "\n",
    "# Dados fornecidos conforme a Questão 2 e DICA (1)\n",
    "# Valores de x (transformados dos anos 1950, 1960, 1970, 1980, 2000)\n",
    "x_valores = np.array([1.00, 1.25, 1.50, 1.75, 2.00])\n",
    "# Valores de y (Disponibilidade da água em 1000 m³)\n",
    "y_valores = np.array([105.0, 80.2, 61.7, 48.8, 28.3])\n",
    "\n",
    "# Para ajustar o modelo y = a * e^(bx), linearizamos tomando o logaritmo natural:\n",
    "# ln(y) = ln(a) + b*x\n",
    "# Esta é uma equação linear da forma Y = C + b*X, onde Y = ln(y), C = ln(a), X = x.\n",
    "\n",
    "# Calcular ln(y)\n",
    "ln_y_valores = np.log(y_valores)\n",
    "\n",
    "# Realizar a regressão linear para encontrar 'b' (coeficiente angular) e 'ln_a' (intercepto linear)\n",
    "# np.polyfit(X, Y, grau) retorna os coeficientes do polinômio. Para grau 1: [coef_angular, intercepto]\n",
    "coeficientes_regressao = np.polyfit(x_valores, ln_y_valores, 1)\n",
    "b = coeficientes_regressao[0]\n",
    "ln_a = coeficientes_regressao[1]\n",
    "\n",
    "# Calcular 'a' a partir de ln_a\n",
    "a = np.exp(ln_a)\n",
    "\n",
    "# Apresentar os coeficientes da curva determinada\n",
    "print(\"Determinação da curva y = a * e^(bx):\")\n",
    "print(f\"  Coeficiente 'a': {a:.4f}\")\n",
    "print(f\"  Coeficiente 'b': {b:.4f}\")\n",
    "print(f\"  A equação da curva é aproximadamente: y = {a:.4f} * e^({b:.4f}x)\")\n",
    "print(\"-\" * 50)\n",
    "\n",
    "# Estimar a disponibilidade de água para 2020, onde x = 3\n",
    "x_para_2020 = 3\n",
    "y_estimado_2020 = a * np.exp(b * x_para_2020)\n",
    "\n",
    "# Apresentar a estimativa para 2020 (x=3)\n",
    "print(f\"Estimativa da disponibilidade de água para o ano 2020 (onde x = {x_para_2020}):\")\n",
    "print(f\"  y({x_para_2020}) = {y_estimado_2020:.4f} (em 1000 m³ por habitante)\")\n",
    "print(\"-\" * 50)\n",
    "\n",
    "# A resposta para preencher o campo \"Resposta para a questão. 2020 (x=3): _______\"\n",
    "print(f\"Valor para preenchimento da resposta: {y_estimado_2020:.2f}\")\n",
    "# (Usando 2 casas decimais para o preenchimento, o que é comum para esse tipo de dado)"
   ]
  }
 ],
 "metadata": {
  "language_info": {
   "name": "python"
  }
 },
 "nbformat": 4,
 "nbformat_minor": 2
}
