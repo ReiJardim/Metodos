{
 "cells": [
  {
   "cell_type": "code",
   "execution_count": 1,
   "metadata": {},
   "outputs": [
    {
     "name": "stdout",
     "output_type": "stream",
     "text": [
      "--- Análise da Relação entre Altura e Peso ---\n",
      "A equação da reta de regressão ajustada é:\n",
      "Peso (kg) = 0.5276 * Altura (cm) + (-20.0780)\n",
      "--------------------------------------------------\n",
      "a) Estimativa do peso para um funcionário com 175 cm de altura:\n",
      "   Peso estimado: 72.25 kg\n",
      "--------------------------------------------------\n",
      "b) Estimativa da altura para um funcionário com 80 kg:\n",
      "   Altura estimada: 189.70 cm\n",
      "--------------------------------------------------\n"
     ]
    }
   ],
   "source": [
    "import numpy as np\n",
    "\n",
    "# --- Questão 3: Altura e Peso de Funcionários ---\n",
    "\n",
    "# Dados fornecidos na tabela da Questão 3\n",
    "# Altura (cm) - variável independente (x)\n",
    "alturas_cm = np.array([183, 173, 168, 188, 158, 163, 193, 163, 178])\n",
    "# Peso (kg) - variável dependente (y)\n",
    "pesos_kg = np.array([79,  69,  70,  81,  61,  63,  79,  71,  73])\n",
    "\n",
    "# Passo 1: Ajustar uma reta que descreve o comportamento do peso em função da altura.\n",
    "# O modelo é: peso = m * altura + c\n",
    "# Usamos np.polyfit(x, y, grau_do_polinomio)\n",
    "# Para uma reta, grau_do_polinomio = 1. Retorna [m, c].\n",
    "coeficientes = np.polyfit(alturas_cm, pesos_kg, 1)\n",
    "m_slope = coeficientes[0]  # Coeficiente angular (inclinação da reta)\n",
    "c_intercept = coeficientes[1]  # Intercepto (onde a reta cruza o eixo y)\n",
    "\n",
    "print(\"--- Análise da Relação entre Altura e Peso ---\")\n",
    "print(f\"A equação da reta de regressão ajustada é:\")\n",
    "# Formatamos os coeficientes para melhor leitura\n",
    "print(f\"Peso (kg) = {m_slope:.4f} * Altura (cm) + ({c_intercept:.4f})\")\n",
    "print(\"-\" * 50)\n",
    "\n",
    "# Passo 2: Com base nessas informações, responder:\n",
    "\n",
    "# a) Estime o peso de um funcionário com 175 cm de altura\n",
    "altura_especifica_a = 175\n",
    "peso_estimado_a = m_slope * altura_especifica_a + c_intercept\n",
    "    \n",
    "print(f\"a) Estimativa do peso para um funcionário com {altura_especifica_a} cm de altura:\")\n",
    "# Formatamos a resposta para 2 casas decimais, comum para peso em kg\n",
    "print(f\"   Peso estimado: {peso_estimado_a:.2f} kg\")\n",
    "print(\"-\" * 50)\n",
    "\n",
    "# b) Estime a altura de um funcionário com 80 kg\n",
    "peso_especifico_b = 80\n",
    "# Para encontrar a altura, rearranjamos a equação: Altura = (Peso - c) / m\n",
    "altura_estimada_b = (peso_especifico_b - c_intercept) / m_slope\n",
    "\n",
    "print(f\"b) Estimativa da altura para um funcionário com {peso_especifico_b} kg:\")\n",
    "# Formatamos a resposta para 2 casas decimais, comum para altura em cm\n",
    "print(f\"   Altura estimada: {altura_estimada_b:.2f} cm\")\n",
    "print(\"-\" * 50)"
   ]
  }
 ],
 "metadata": {
  "language_info": {
   "name": "python"
  }
 },
 "nbformat": 4,
 "nbformat_minor": 2
}
